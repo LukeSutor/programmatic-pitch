{
 "cells": [
  {
   "cell_type": "code",
   "execution_count": null,
   "metadata": {},
   "outputs": [],
   "source": [
    "# Download dataset zipfile\n",
    "! wget -O data.zip https://uflorida-my.sharepoint.com/:u:/g/personal/luke_sutor_ufl_edu/EaDT0l0SF8RIvcEC4_MR7ioBIZgArptaLAax7SH0hFG2cw?download=1"
   ]
  },
  {
   "cell_type": "code",
   "execution_count": null,
   "metadata": {},
   "outputs": [],
   "source": [
    "# Extract data\n",
    "import zipfile\n",
    "with zipfile.ZipFile('./data.zip', 'r') as zip_ref:\n",
    "    zip_ref.extractall('.')"
   ]
  },
  {
   "cell_type": "code",
   "execution_count": null,
   "metadata": {},
   "outputs": [],
   "source": [
    "# Remove zipfile\n",
    "!rm -rf data.zip"
   ]
  },
  {
   "cell_type": "code",
   "execution_count": null,
   "metadata": {},
   "outputs": [],
   "source": [
    "# Clone repo\n",
    "! git clone https://github.com/LukeSutor/diffusion_music_generation.git"
   ]
  },
  {
   "cell_type": "code",
   "execution_count": null,
   "metadata": {},
   "outputs": [],
   "source": [
    "# Download dependencies\n",
    "! pip install torch torchvision torchaudio\n",
    "# ! pip install torchinfo\n",
    "! pip install tqdm\n",
    "! pip install einops\n",
    "! pip install pathlib\n",
    "! pip install blobfile\n",
    "! pip install tensorboard\n",
    "! pip install pedalboard\n",
    "! pip install librosa\n",
    "! pip install matplotlib"
   ]
  },
  {
   "cell_type": "code",
   "execution_count": null,
   "metadata": {},
   "outputs": [],
   "source": [
    "%cd diffusion_music_generation/"
   ]
  },
  {
   "cell_type": "code",
   "execution_count": null,
   "metadata": {},
   "outputs": [],
   "source": [
    "# Startup TensorBoard\n",
    "%load_ext tensorboard\n",
    "%tensorboard --logdir='./logs/Training'"
   ]
  },
  {
   "cell_type": "code",
   "execution_count": null,
   "metadata": {},
   "outputs": [],
   "source": [
    "# Begin training\n",
    "'''\n",
    "REMEMBER TO CHANGE ALL NECESSARY CONSTANTS IN CONSTANTS.PY\n",
    "BEFORE BEGINNING A NEW TRAINING RUN\n",
    "'''\n",
    "!python scripts/train_univnet.py"
   ]
  }
 ],
 "metadata": {
  "language_info": {
   "name": "python"
  },
  "orig_nbformat": 4
 },
 "nbformat": 4,
 "nbformat_minor": 2
}
